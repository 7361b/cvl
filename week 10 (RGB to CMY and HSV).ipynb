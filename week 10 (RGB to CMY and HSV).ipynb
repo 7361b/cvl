{
 "cells": [
  {
   "cell_type": "code",
   "execution_count": null,
   "id": "fc134514",
   "metadata": {},
   "outputs": [],
   "source": [
    "import cv2\n",
    "img_path=\"C:\\\\Users\\\\anura\\\\OneDrive\\\\Desktop\\\\download.jpeg\"\n",
    "img=cv2.imread(img_path)\n",
    "rgb=cv2.cvtColor(img,cv2.COLOR_BGR2RGB)\n",
    "cmy=255-rgb\n",
    "hsv=cv2.cvtColor(img,cv2.COLOR_BGR2HSV)\n",
    "cv2.imshow(\"Original\",img)\n",
    "cv2.imshow(\"RGB\",rgb)\n",
    "cv2.imshow(\"CMY\",cmy)\n",
    "cv2.imshow(\"HSV\",hsv)\n",
    "cv2.waitKey(0)\n",
    "cv2.destroyAllWindows()"
   ]
  }
 ],
 "metadata": {
  "kernelspec": {
   "display_name": "Python 3 (ipykernel)",
   "language": "python",
   "name": "python3"
  },
  "language_info": {
   "codemirror_mode": {
    "name": "ipython",
    "version": 3
   },
   "file_extension": ".py",
   "mimetype": "text/x-python",
   "name": "python",
   "nbconvert_exporter": "python",
   "pygments_lexer": "ipython3",
   "version": "3.10.9"
  }
 },
 "nbformat": 4,
 "nbformat_minor": 5
}
