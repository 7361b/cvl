{
 "cells": [
  {
   "cell_type": "code",
   "execution_count": 3,
   "id": "f58ec382",
   "metadata": {},
   "outputs": [],
   "source": [
    "import cv2\n",
    "img_path=\"C:\\\\Users\\\\anura\\\\OneDrive\\\\Desktop\\\\download.jpeg\"\n",
    "img=cv2.imread(img_path)\n",
    "gaussian=cv2.GaussianBlur(img,(9,5),0)\n",
    "median=cv2.medianBlur(img,15)\n",
    "bilateral=cv2.bilateralFilter(img,9,75,75)\n",
    "cv2.imshow(\"Original\",img)\n",
    "cv2.imshow(\"GaussianBlur img\",gaussian)\n",
    "cv2.imshow(\"medianBlur img\",median)\n",
    "cv2.imshow(\"bilateral img\",bilateral)\n",
    "cv2.waitKey(0)\n",
    "cv2.destroyAllWindows()"
   ]
  },
  {
   "cell_type": "code",
   "execution_count": null,
   "id": "5926cf9e",
   "metadata": {},
   "outputs": [],
   "source": []
  }
 ],
 "metadata": {
  "kernelspec": {
   "display_name": "Python 3 (ipykernel)",
   "language": "python",
   "name": "python3"
  },
  "language_info": {
   "codemirror_mode": {
    "name": "ipython",
    "version": 3
   },
   "file_extension": ".py",
   "mimetype": "text/x-python",
   "name": "python",
   "nbconvert_exporter": "python",
   "pygments_lexer": "ipython3",
   "version": "3.10.9"
  }
 },
 "nbformat": 4,
 "nbformat_minor": 5
}
