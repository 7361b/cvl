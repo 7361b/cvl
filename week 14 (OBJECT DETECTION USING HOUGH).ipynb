{
 "cells": [
  {
   "cell_type": "code",
   "execution_count": null,
   "id": "c0292218",
   "metadata": {},
   "outputs": [],
   "source": [
    "import cv2\n",
    "import numpy as np\n",
    "img_path=\"C:\\\\Users\\\\anura\\\\OneDrive\\\\Desktop\\\\download1.png\"\n",
    "img=cv2.imread(img_path)\n",
    "gray=cv2.cvtColor(img,cv2.COLOR_BGR2GRAY)\n",
    "blurred=cv2.GaussianBlur(gray,(5,5),0)\n",
    "edges=cv2.Canny(blurred,50,150)\n",
    "lines=cv2.HoughLines(edges,1,np.pi/180,threshold=100)\n",
    "if lines is not None:\n",
    "    for line in lines:\n",
    "        rho,theta=line[0]\n",
    "        a=np.cos(theta)\n",
    "        b=np.sin(theta)\n",
    "        x0=a*rho\n",
    "        y0=b*rho\n",
    "        x1=int(x0+1000*(-b))\n",
    "        y1=int(y0+1000*(a))\n",
    "        x2=int(x0-1000*(-b))\n",
    "        y2=int(y0-1000*(a))\n",
    "        cv2.line(img,(x1,y1),(x2,y2),(0,0,255),2)\n",
    "    cv2.imshow(\"Object Detection using Hough Transform\",img)\n",
    "    cv2.waitKey(0)\n",
    "    cv2.destroyAllWindows()\n",
    "else:\n",
    "    print(\"No lines detected\")"
   ]
  },
  {
   "cell_type": "code",
   "execution_count": null,
   "id": "bef10f6e",
   "metadata": {},
   "outputs": [],
   "source": []
  }
 ],
 "metadata": {
  "kernelspec": {
   "display_name": "Python 3 (ipykernel)",
   "language": "python",
   "name": "python3"
  },
  "language_info": {
   "codemirror_mode": {
    "name": "ipython",
    "version": 3
   },
   "file_extension": ".py",
   "mimetype": "text/x-python",
   "name": "python",
   "nbconvert_exporter": "python",
   "pygments_lexer": "ipython3",
   "version": "3.10.9"
  }
 },
 "nbformat": 4,
 "nbformat_minor": 5
}
