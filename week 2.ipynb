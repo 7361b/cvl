{
 "cells": [
  {
   "cell_type": "code",
   "execution_count": 3,
   "id": "0791f959",
   "metadata": {},
   "outputs": [
    {
     "name": "stdout",
     "output_type": "stream",
     "text": [
      "Sum =  10256231\n",
      "Standard Deviation =  62.28773136844293\n",
      "Mean =  111.10639150687899\n",
      "Maximum =  255\n",
      "Minimum =  0\n"
     ]
    }
   ],
   "source": [
    "import cv2\n",
    "import numpy as np\n",
    "img_path=\"C:\\\\Users\\\\anura\\\\OneDrive\\\\Desktop\\\\download.jpeg\"\n",
    "img=cv2.imread(img_path)\n",
    "img_a=np.asarray(img)\n",
    "sum=np.sum(img_a)\n",
    "std=np.std(img_a)\n",
    "mean=np.mean(img_a)\n",
    "min=np.min(img_a)\n",
    "max=np.max(img_a)\n",
    "print(\"Sum = \",sum)\n",
    "print(\"Standard Deviation = \",std)\n",
    "print(\"Mean = \",mean)\n",
    "print(\"Maximum = \",max)\n",
    "print(\"Minimum = \",min)"
   ]
  }
 ],
 "metadata": {
  "kernelspec": {
   "display_name": "Python 3 (ipykernel)",
   "language": "python",
   "name": "python3"
  },
  "language_info": {
   "codemirror_mode": {
    "name": "ipython",
    "version": 3
   },
   "file_extension": ".py",
   "mimetype": "text/x-python",
   "name": "python",
   "nbconvert_exporter": "python",
   "pygments_lexer": "ipython3",
   "version": "3.10.9"
  }
 },
 "nbformat": 4,
 "nbformat_minor": 5
}
