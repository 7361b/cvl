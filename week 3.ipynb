{
 "cells": [
  {
   "cell_type": "code",
   "execution_count": 14,
   "id": "cf00c635",
   "metadata": {},
   "outputs": [],
   "source": [
    "from PIL import Image\n",
    "from PIL import ImageEnhance\n",
    "img=Image.open(\"C:\\\\Users\\\\anura\\\\OneDrive\\\\Desktop\\\\download.jpeg\")\n",
    "curr_bri=ImageEnhance.Brightness(img)\n",
    "enhancer=ImageEnhance.Contrast(img)\n",
    "fact=5\n",
    "new_bri=1.5\n",
    "img_bri=curr_bri.enhance(new_bri)\n",
    "output=enhancer.enhance(fact)\n",
    "output.show()\n",
    "img_bri.show()\n"
   ]
  },
  {
   "cell_type": "code",
   "execution_count": 13,
   "id": "9131192c",
   "metadata": {},
   "outputs": [],
   "source": []
  },
  {
   "cell_type": "code",
   "execution_count": null,
   "id": "8713b59b",
   "metadata": {},
   "outputs": [],
   "source": []
  }
 ],
 "metadata": {
  "kernelspec": {
   "display_name": "Python 3 (ipykernel)",
   "language": "python",
   "name": "python3"
  },
  "language_info": {
   "codemirror_mode": {
    "name": "ipython",
    "version": 3
   },
   "file_extension": ".py",
   "mimetype": "text/x-python",
   "name": "python",
   "nbconvert_exporter": "python",
   "pygments_lexer": "ipython3",
   "version": "3.10.9"
  }
 },
 "nbformat": 4,
 "nbformat_minor": 5
}
