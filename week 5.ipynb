{
 "cells": [
  {
   "cell_type": "code",
   "execution_count": 2,
   "id": "f149bb8f",
   "metadata": {},
   "outputs": [],
   "source": [
    "import cv2\n",
    "import numpy as np\n",
    "kernel=np.ones((5,5),np.int8)\n",
    "img_path=\"C:\\\\Users\\\\anura\\\\OneDrive\\\\Desktop\\\\download.jpeg\"\n",
    "img=cv2.imread(img_path)\n",
    "dilation=cv2.dilate(img,kernel,iterations=1)\n",
    "erosion=cv2.erode(img,kernel,iterations=1)\n",
    "opening=cv2.morphologyEx(img,cv2.MORPH_OPEN,kernel)\n",
    "closing=cv2.morphologyEx(img,cv2.MORPH_CLOSE,kernel)\n",
    "cv2.imshow(\"Dilation\",dilation)\n",
    "cv2.imshow(\"Erosion\",erosion)\n",
    "cv2.imshow(\"Opening\",opening)\n",
    "cv2.imshow(\"Closing\",closing)\n",
    "cv2.waitKey(0)\n",
    "cv2.destroyAllWindows()"
   ]
  }
 ],
 "metadata": {
  "kernelspec": {
   "display_name": "Python 3 (ipykernel)",
   "language": "python",
   "name": "python3"
  },
  "language_info": {
   "codemirror_mode": {
    "name": "ipython",
    "version": 3
   },
   "file_extension": ".py",
   "mimetype": "text/x-python",
   "name": "python",
   "nbconvert_exporter": "python",
   "pygments_lexer": "ipython3",
   "version": "3.10.9"
  }
 },
 "nbformat": 4,
 "nbformat_minor": 5
}
