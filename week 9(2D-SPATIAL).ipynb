{
 "cells": [
  {
   "cell_type": "code",
   "execution_count": null,
   "id": "fc755594",
   "metadata": {},
   "outputs": [],
   "source": [
    "import cv2\n",
    "img_path=\"C:\\\\Users\\\\anura\\\\OneDrive\\\\Desktop\\\\download.jpeg\"\n",
    "img=cv2.imread(img_path)\n",
    "dx,dy=50,50\n",
    "angle=45\n",
    "scale=1.5\n",
    "affmat=cv2.getRotationMatrix2D((img.shape[1]/2,img.shape[0]/2),angle,scale)\n",
    "affmat[0,1]+=dx\n",
    "affmat[1,2]+=dy\n",
    "affmatrai=cv2.warpAffine(img,affmat,(img.shape[1],img.shape[0]))\n",
    "cv2.imshow(\"Original\",img)\n",
    "cv2.imshow(\"Translated\",affmatrai)\n",
    "cv2.waitKey(0)\n",
    "cv2.destroyAllWindows()"
   ]
  }
 ],
 "metadata": {
  "kernelspec": {
   "display_name": "Python 3 (ipykernel)",
   "language": "python",
   "name": "python3"
  },
  "language_info": {
   "codemirror_mode": {
    "name": "ipython",
    "version": 3
   },
   "file_extension": ".py",
   "mimetype": "text/x-python",
   "name": "python",
   "nbconvert_exporter": "python",
   "pygments_lexer": "ipython3",
   "version": "3.10.9"
  }
 },
 "nbformat": 4,
 "nbformat_minor": 5
}
