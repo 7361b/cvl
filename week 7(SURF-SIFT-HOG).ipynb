{
 "cells": [
  {
   "cell_type": "code",
   "execution_count": null,
   "id": "8d24da61",
   "metadata": {},
   "outputs": [],
   "source": [
    "import cv2\n",
    "img_path=\"C:\\\\Users\\\\anura\\\\OneDrive\\\\Desktop\\\\download.jpeg\"\n",
    "img=cv2.imread(img_path)\n",
    "sift=cv2.SIFT_create()\n",
    "kp=sift.detect(img)\n",
    "keypoints=cv2.drawKeypoints(img,kp,None)\n",
    "cv2.imshow(\"Original\",img)\n",
    "cv2.imshow(\"Sift\",keypoints)\n",
    "cv2.waitKey(0)\n",
    "cv2.destroyAllWindows()"
   ]
  }
 ],
 "metadata": {
  "kernelspec": {
   "display_name": "Python 3 (ipykernel)",
   "language": "python",
   "name": "python3"
  },
  "language_info": {
   "codemirror_mode": {
    "name": "ipython",
    "version": 3
   },
   "file_extension": ".py",
   "mimetype": "text/x-python",
   "name": "python",
   "nbconvert_exporter": "python",
   "pygments_lexer": "ipython3",
   "version": "3.10.9"
  }
 },
 "nbformat": 4,
 "nbformat_minor": 5
}
